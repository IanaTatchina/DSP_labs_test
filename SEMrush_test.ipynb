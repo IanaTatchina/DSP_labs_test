{
 "cells": [
  {
   "cell_type": "markdown",
   "metadata": {},
   "source": [
    "### Есть 3 эксперта, которые прогнозируют победу России в матче с Испанией на ЧМ 2018! Каждый из экспертов выставляет верный прогноз (прогноз бинарен: победа России или нет) с вероятностью 90 процентов. Какова будет вероятность верного прогноза в случае, если прогноз будет осуществляться сразу тремя экспертами, а финальное решение будет осуществляться голосованием, а именно правилом большинства."
   ]
  },
  {
   "cell_type": "markdown",
   "metadata": {},
   "source": [
    "### Используя формулу Бернулли, найдем вероятность верного прогноза"
   ]
  },
  {
   "cell_type": "code",
   "execution_count": 4,
   "metadata": {
    "collapsed": true
   },
   "outputs": [],
   "source": [
    "from math import factorial\n",
    "\n",
    "\n",
    "def calculate_probability(*, p, n, k):\n",
    "\n",
    "    combinations = factorial(n) / (factorial(k) * factorial(n-k))\n",
    "    \n",
    "    return combinations * p ** k * (1 - p) ** (n - k)\n",
    "    \n"
   ]
  },
  {
   "cell_type": "code",
   "execution_count": 10,
   "metadata": {},
   "outputs": [
    {
     "data": {
      "text/plain": [
       "0.9720000000000001"
      ]
     },
     "execution_count": 10,
     "metadata": {},
     "output_type": "execute_result"
    }
   ],
   "source": [
    "calculate_probability(p=0.9, n=3, k=2) + calculate_probability(p=0.9, n=3, k=3)"
   ]
  },
  {
   "cell_type": "markdown",
   "metadata": {},
   "source": [
    "### Ответ: Р = 0.972"
   ]
  },
  {
   "cell_type": "code",
   "execution_count": null,
   "metadata": {
    "collapsed": true
   },
   "outputs": [],
   "source": []
  }
 ],
 "metadata": {
  "kernelspec": {
   "display_name": "Python 3",
   "language": "python",
   "name": "python3"
  },
  "language_info": {
   "codemirror_mode": {
    "name": "ipython",
    "version": 3
   },
   "file_extension": ".py",
   "mimetype": "text/x-python",
   "name": "python",
   "nbconvert_exporter": "python",
   "pygments_lexer": "ipython3",
   "version": "3.6.3"
  }
 },
 "nbformat": 4,
 "nbformat_minor": 2
}
